{
 "cells": [
  {
   "cell_type": "code",
   "execution_count": 1,
   "metadata": {},
   "outputs": [],
   "source": [
    "import pandas as pd\n",
    "from sklearn import preprocessing\n",
    "import numpy as np\n",
    "import pickle\n",
    "from sklearn.model_selection import train_test_split\n",
    "from sklearn.datasets import load_iris"
   ]
  },
  {
   "cell_type": "code",
   "execution_count": 2,
   "metadata": {},
   "outputs": [],
   "source": [
    "iris = load_iris()\n",
    "X, y = iris.data, iris.target\n"
   ]
  },
  {
   "cell_type": "code",
   "execution_count": 3,
   "metadata": {},
   "outputs": [],
   "source": [
    "X_train, X_test, y_train, y_test = train_test_split(X, y, test_size = 0.3, random_state=42)"
   ]
  },
  {
   "cell_type": "code",
   "execution_count": 4,
   "metadata": {},
   "outputs": [
    {
     "name": "stdout",
     "output_type": "stream",
     "text": [
      "LRregressor / Train score is : 0.9217045042860801\n",
      "LRregressor / Test score is : 0.9442318571467433\n",
      "Prediction of Linear Regression: [ 1.24069097 -0.04537609  2.24501083  1.35143666  1.29775083  0.01024241\n",
      "  1.05031173  1.82525399  1.37084413  1.06699186  1.70363485 -0.08712067\n",
      " -0.165166   -0.07724353 -0.03380619  1.40167699  2.00651252  1.04725931\n",
      "  1.28368327  1.97600474  0.01782354  1.59952875  0.079732    1.92307532\n",
      "  1.8621986   1.8790815   1.80251247  2.04196713  0.01873817  0.01291496\n",
      " -0.15365607 -0.08046738  1.18506728 -0.00461982 -0.02934265  1.68665136\n",
      "  1.29088786 -0.07995434 -0.09076782 -0.16795331  1.75520461  1.37514144\n",
      "  1.3174234  -0.07193336 -0.1131512 ]\n"
     ]
    }
   ],
   "source": [
    "# #### Linear Regression\n",
    "\n",
    "from sklearn.linear_model import LinearRegression\n",
    "\n",
    "LRregressor = LinearRegression()\n",
    "LRregressor.fit(X_train,y_train)\n",
    "\n",
    "# Calculate the training and test score\n",
    "print(\"LRregressor / Train score is :\", LRregressor.score(X_train,y_train))\n",
    "print(\"LRregressor / Test score is :\", LRregressor.score(X_test,y_test))\n",
    "\n",
    "# Calculate the prediction of the model\n",
    "ypred_LR = LRregressor.predict(X_test)\n",
    "print(\"Prediction of Linear Regression:\", ypred_LR)"
   ]
  },
  {
   "cell_type": "code",
   "execution_count": 5,
   "metadata": {},
   "outputs": [
    {
     "name": "stdout",
     "output_type": "stream",
     "text": [
      "Decision Tree Regressor / Train score is : 1.0\n",
      "Decision Tree Regressor / Test score is : 1.0\n",
      "Prediction of Decision Tree: [1. 0. 2. 1. 1. 0. 1. 2. 1. 1. 2. 0. 0. 0. 0. 1. 2. 1. 1. 2. 0. 2. 0. 2.\n",
      " 2. 2. 2. 2. 0. 0. 0. 0. 1. 0. 0. 2. 1. 0. 0. 0. 2. 1. 1. 0. 0.]\n"
     ]
    }
   ],
   "source": [
    "# #### Decision Tree Regressor\n",
    "\n",
    "from sklearn.tree import DecisionTreeRegressor\n",
    "\n",
    "DTregressor = DecisionTreeRegressor(max_depth=10, random_state=1)\n",
    "DTregressor.fit(X_train,y_train)\n",
    "\n",
    "# Calculate the training and test score\n",
    "print(\"Decision Tree Regressor / Train score is :\", DTregressor.score(X_train,y_train))\n",
    "print(\"Decision Tree Regressor / Test score is :\", DTregressor.score(X_test,y_test))\n",
    "\n",
    "\n",
    "# Calculate the prediction of the model\n",
    "ypred_DTr = DTregressor.predict(X_test)\n",
    "print(\"Prediction of Decision Tree:\", ypred_DTr)"
   ]
  },
  {
   "cell_type": "code",
   "execution_count": 6,
   "metadata": {},
   "outputs": [
    {
     "name": "stdout",
     "output_type": "stream",
     "text": [
      "Random Forest Regressor / Train score is : 0.9646179097524167\n",
      "Random Forest Regressor / Test score is : 0.996847569711084\n",
      "Important features are :  [0.00237374 0.00268483 0.56500922 0.42993221]\n",
      "Prediction of Random Forest : [1.00764832 0.         1.99472456 1.01435287 1.22699608 0.\n",
      " 1.00764832 1.97720075 1.06710287 1.00764832 1.97720075 0.\n",
      " 0.         0.         0.         1.08725274 1.99672456 1.00764832\n",
      " 1.00764832 1.99672456 0.         1.86555409 0.         1.99672456\n",
      " 1.99672456 1.99422456 1.99115313 1.99672456 0.         0.\n",
      " 0.         0.         1.01320388 0.         0.         1.9169152\n",
      " 1.01990842 0.         0.         0.         1.97236742 1.07919719\n",
      " 1.01990842 0.         0.        ]\n"
     ]
    }
   ],
   "source": [
    "# #### Random Forest Regressor\n",
    "\n",
    "from sklearn.ensemble import RandomForestRegressor\n",
    "\n",
    "RFregressor = RandomForestRegressor(n_estimators=100, max_depth=3, random_state=1)\n",
    "RFregressor.fit(X_train,y_train)\n",
    "\n",
    "# Calculate the training and test score\n",
    "print(\"Random Forest Regressor / Train score is :\", RFregressor.score(X_train,y_train))\n",
    "print(\"Random Forest Regressor / Test score is :\", RFregressor.score(X_test,y_test))\n",
    "#print(\"Random Forest Regressor / N° of features  are : \", RFregressor.n_features_)\n",
    "print(\"Important features are : \" , RFregressor.feature_importances_)\n",
    "\n",
    "\n",
    "# Calculate the prediction of the model\n",
    "ypred_RFr = RFregressor.predict(X_test)\n",
    "print(\"Prediction of Random Forest :\", ypred_RFr)"
   ]
  },
  {
   "cell_type": "code",
   "execution_count": 7,
   "metadata": {},
   "outputs": [
    {
     "name": "stdout",
     "output_type": "stream",
     "text": [
      "SVM regressor / Train score is : 0.9214718453118534\n",
      "SVM regressor / Test score is : 0.9426758461300704\n"
     ]
    }
   ],
   "source": [
    "from sklearn.svm import SVR\n",
    "\n",
    "SVMregressor = SVR(kernel='linear')\n",
    "SVMregressor.fit(X_train, y_train)\n",
    "\n",
    "# Calculate the training and test score\n",
    "print(\"SVM regressor / Train score is :\", SVMregressor.score(X_train,y_train))\n",
    "print(\"SVM regressor / Test score is :\", SVMregressor.score(X_test,y_test))"
   ]
  },
  {
   "cell_type": "code",
   "execution_count": 8,
   "metadata": {},
   "outputs": [
    {
     "name": "stdout",
     "output_type": "stream",
     "text": [
      "Prediction of SVM : [ 1.25046402 -0.03579978  2.27205484  1.3522968   1.31715769  0.00995635\n",
      "  1.04348104  1.82982857  1.37364511  1.06697429  1.70715824 -0.09409666\n",
      " -0.16000431 -0.08156633 -0.03664216  1.4081839   2.00859872  1.04499053\n",
      "  1.28275787  1.97469538  0.00831367  1.59813973  0.07227636  1.92387377\n",
      "  1.90024347  1.88003944  1.81550809  2.04868905  0.00754657  0.00504722\n",
      " -0.16684413 -0.07233411  1.20147464 -0.0116815  -0.04600603  1.68610643\n",
      "  1.30019733 -0.07957774 -0.09441786 -0.1638568   1.74611664  1.37523721\n",
      "  1.33314402 -0.07182335 -0.1084156 ]\n"
     ]
    }
   ],
   "source": [
    "# Calculate the prediction of the model\n",
    "ypred_SVMr = SVMregressor.predict(X_test)\n",
    "print(\"Prediction of SVM :\", ypred_SVMr)"
   ]
  },
  {
   "cell_type": "code",
   "execution_count": 9,
   "metadata": {},
   "outputs": [],
   "source": [
    "### Saving the best model ###\n",
    "\n",
    "# Saving model to disk\n",
    "pickle.dump(DTregressor, open('model.pkl','wb'))"
   ]
  },
  {
   "cell_type": "code",
   "execution_count": null,
   "metadata": {},
   "outputs": [],
   "source": []
  }
 ],
 "metadata": {
  "kernelspec": {
   "display_name": "Python 3",
   "language": "python",
   "name": "python3"
  },
  "language_info": {
   "codemirror_mode": {
    "name": "ipython",
    "version": 3
   },
   "file_extension": ".py",
   "mimetype": "text/x-python",
   "name": "python",
   "nbconvert_exporter": "python",
   "pygments_lexer": "ipython3",
   "version": "3.11.5"
  }
 },
 "nbformat": 4,
 "nbformat_minor": 2
}
